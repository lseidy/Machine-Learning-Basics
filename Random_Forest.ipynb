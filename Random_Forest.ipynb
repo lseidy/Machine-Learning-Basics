{
  "nbformat": 4,
  "nbformat_minor": 0,
  "metadata": {
    "colab": {
      "provenance": [],
      "mount_file_id": "1esAYLSdCtn14E8l_ZVZJEmjZTFQ5C3wJ",
      "authorship_tag": "ABX9TyOCe0Cxq0JS2NH004cbJcKi",
      "include_colab_link": true
    },
    "kernelspec": {
      "name": "python3",
      "display_name": "Python 3"
    },
    "language_info": {
      "name": "python"
    }
  },
  "cells": [
    {
      "cell_type": "markdown",
      "metadata": {
        "id": "view-in-github",
        "colab_type": "text"
      },
      "source": [
        "<a href=\"https://colab.research.google.com/github/lseidy/Machine-Learning-Basics/blob/main/Random_Forest.ipynb\" target=\"_parent\"><img src=\"https://colab.research.google.com/assets/colab-badge.svg\" alt=\"Open In Colab\"/></a>"
      ]
    },
    {
      "cell_type": "markdown",
      "source": [
        "##Random Forest\n",
        "\n",
        "- Utilizar aprendizaem em conjunto\n",
        "- Diversos Algoritmos para construir um outro \"melhor\"\n",
        "- Regressão ou Classificação\n",
        "- Utiliza um valor K, onde K é a quantidade atributos por arvore de pureza/impureza (impureza de gini/entropia)"
      ],
      "metadata": {
        "id": "JDhfakLOBp9q"
      }
    },
    {
      "cell_type": "code",
      "execution_count": null,
      "metadata": {
        "id": "iT5dAICSgxHO"
      },
      "outputs": [],
      "source": [
        "from sklearn.ensemble import RandomForestClassifier"
      ]
    },
    {
      "cell_type": "code",
      "source": [
        "#Importe de Banco de Dados\n",
        "import pickle\n",
        "with open('/content/drive/MyDrive/credit.pkl', 'rb') as f:\n",
        "  X_train, y_train, X_test, y_test = pickle.load(f)"
      ],
      "metadata": {
        "id": "t-7A5NBfDhv3"
      },
      "execution_count": null,
      "outputs": []
    },
    {
      "cell_type": "code",
      "source": [
        "#Conferencia de Valores\n",
        "X_train.shape, y_train.shape"
      ],
      "metadata": {
        "colab": {
          "base_uri": "https://localhost:8080/"
        },
        "id": "I7Sr7X4JD-cV",
        "outputId": "103d6059-10b1-4c54-fdd1-5fdf33216c31"
      },
      "execution_count": null,
      "outputs": [
        {
          "output_type": "execute_result",
          "data": {
            "text/plain": [
              "((24435, 3), (24435,))"
            ]
          },
          "metadata": {},
          "execution_count": 64
        }
      ]
    },
    {
      "cell_type": "code",
      "source": [
        "X_test.shape, y_test.shape"
      ],
      "metadata": {
        "colab": {
          "base_uri": "https://localhost:8080/"
        },
        "id": "6rbI1PyLED6z",
        "outputId": "a5bdd422-7f8d-4203-8f2d-311dd79fef15"
      },
      "execution_count": null,
      "outputs": [
        {
          "output_type": "execute_result",
          "data": {
            "text/plain": [
              "((8146, 3), (8146,))"
            ]
          },
          "metadata": {},
          "execution_count": 65
        }
      ]
    },
    {
      "cell_type": "code",
      "source": [
        "#treinamento do modelo\n",
        "credit_randomForest = RandomForestClassifier(n_estimators= 20, criterion = 'entropy', random_state=0)\n",
        "credit_randomForest.fit(X_train, y_train)"
      ],
      "metadata": {
        "colab": {
          "base_uri": "https://localhost:8080/"
        },
        "id": "XxSCDsIREHD7",
        "outputId": "630795d6-ea8b-4fdf-d809-3161b317c4da"
      },
      "execution_count": null,
      "outputs": [
        {
          "output_type": "execute_result",
          "data": {
            "text/plain": [
              "RandomForestClassifier(criterion='entropy', n_estimators=20, random_state=0)"
            ]
          },
          "metadata": {},
          "execution_count": 66
        }
      ]
    },
    {
      "cell_type": "code",
      "source": [
        "#teste do modelo\n",
        "predictors = credit_randomForest.predict(X_test)\n",
        "predictors"
      ],
      "metadata": {
        "colab": {
          "base_uri": "https://localhost:8080/"
        },
        "id": "kq6V_L9fEg83",
        "outputId": "8c0ac2fb-87a3-429b-c199-0631a81011e5"
      },
      "execution_count": null,
      "outputs": [
        {
          "output_type": "execute_result",
          "data": {
            "text/plain": [
              "array([0, 0, 0, ..., 0, 0, 1])"
            ]
          },
          "metadata": {},
          "execution_count": 67
        }
      ]
    },
    {
      "cell_type": "code",
      "source": [
        "y_test"
      ],
      "metadata": {
        "colab": {
          "base_uri": "https://localhost:8080/"
        },
        "id": "-HF2hgT6EruQ",
        "outputId": "dce1d7f5-1c03-4780-c1e8-3690161e77aa"
      },
      "execution_count": null,
      "outputs": [
        {
          "output_type": "execute_result",
          "data": {
            "text/plain": [
              "2124     0\n",
              "252      0\n",
              "13083    0\n",
              "12447    0\n",
              "31009    0\n",
              "        ..\n",
              "1438     1\n",
              "28083    0\n",
              "22127    0\n",
              "10487    0\n",
              "709      1\n",
              "Name: loan_status, Length: 8146, dtype: int64"
            ]
          },
          "metadata": {},
          "execution_count": 68
        }
      ]
    },
    {
      "cell_type": "code",
      "source": [
        "from sklearn.metrics import accuracy_score, classification_report\n",
        "accuracy_score(y_test, predictors)"
      ],
      "metadata": {
        "colab": {
          "base_uri": "https://localhost:8080/"
        },
        "id": "qkndLdoHFDel",
        "outputId": "58e7a18a-86bc-414e-b959-812f0c3343ab"
      },
      "execution_count": null,
      "outputs": [
        {
          "output_type": "execute_result",
          "data": {
            "text/plain": [
              "0.8407807512889762"
            ]
          },
          "metadata": {},
          "execution_count": 69
        }
      ]
    },
    {
      "cell_type": "code",
      "source": [
        "from yellowbrick.classifier import ConfusionMatrix\n",
        "cm = ConfusionMatrix(credit_randomForest)\n",
        "cm.fit(X_train,y_train)\n",
        "cm.score(X_test, y_test)"
      ],
      "metadata": {
        "colab": {
          "base_uri": "https://localhost:8080/",
          "height": 361
        },
        "id": "GlWtqOlmGE7s",
        "outputId": "e9556f90-4a2e-4a86-b649-ca1af8da520e"
      },
      "execution_count": null,
      "outputs": [
        {
          "output_type": "execute_result",
          "data": {
            "text/plain": [
              "0.8407807512889762"
            ]
          },
          "metadata": {},
          "execution_count": 70
        },
        {
          "output_type": "display_data",
          "data": {
            "text/plain": [
              "<Figure size 576x396 with 1 Axes>"
            ],
            "image/png": "[encoded data removed]"
          },
          "metadata": {}
        }
      ]
    },
    {
      "cell_type": "code",
      "source": [
        "print(classification_report(y_test,predictors))"
      ],
      "metadata": {
        "colab": {
          "base_uri": "https://localhost:8080/"
        },
        "id": "wI3T_Pi-GRJv",
        "outputId": "1a50304e-03df-4908-ab5c-7bc134f1afc9"
      },
      "execution_count": null,
      "outputs": [
        {
          "output_type": "stream",
          "name": "stdout",
          "text": [
            "              precision    recall  f1-score   support\n",
            "\n",
            "           0       0.88      0.93      0.90      6482\n",
            "           1       0.65      0.48      0.55      1664\n",
            "\n",
            "    accuracy                           0.84      8146\n",
            "   macro avg       0.76      0.71      0.73      8146\n",
            "weighted avg       0.83      0.84      0.83      8146\n",
            "\n"
          ]
        }
      ]
    },
    {
      "cell_type": "code",
      "source": [
        "with open('/content/drive/MyDrive/census.pkl', 'rb') as f:\n",
        "  X_train, y_train, X_test, y_test = pickle.load(f)"
      ],
      "metadata": {
        "id": "lZGgWCczGliA"
      },
      "execution_count": null,
      "outputs": []
    },
    {
      "cell_type": "code",
      "source": [
        "#treinamento do modelo\n",
        "credit_randomForest = RandomForestClassifier(n_estimators= 150, criterion = 'entropy', random_state=0)\n",
        "credit_randomForest.fit(X_train, y_train)"
      ],
      "metadata": {
        "colab": {
          "base_uri": "https://localhost:8080/"
        },
        "id": "fOfE0q5HGu-N",
        "outputId": "b20bfc22-f55f-406f-86b7-7bc61e20c5e0"
      },
      "execution_count": null,
      "outputs": [
        {
          "output_type": "execute_result",
          "data": {
            "text/plain": [
              "RandomForestClassifier(criterion='entropy', n_estimators=150, random_state=0)"
            ]
          },
          "metadata": {},
          "execution_count": 92
        }
      ]
    },
    {
      "cell_type": "code",
      "source": [
        "#teste do modelo\n",
        "predictors = credit_randomForest.predict(X_test)\n",
        "predictors"
      ],
      "metadata": {
        "colab": {
          "base_uri": "https://localhost:8080/"
        },
        "id": "QW5EQDJeGzMX",
        "outputId": "d0040b9f-cb73-40c4-95c6-ae571e33ba0b"
      },
      "execution_count": null,
      "outputs": [
        {
          "output_type": "execute_result",
          "data": {
            "text/plain": [
              "array(['<=50K', '<=50K', '<=50K', ..., '<=50K', '<=50K', '>50K'],\n",
              "      dtype=object)"
            ]
          },
          "metadata": {},
          "execution_count": 93
        }
      ]
    },
    {
      "cell_type": "code",
      "source": [
        "#Verifica a acuracia do treinamento\n",
        "from sklearn.metrics import accuracy_score, classification_report\n",
        "accuracy_score(y_test, predictors)"
      ],
      "metadata": {
        "colab": {
          "base_uri": "https://localhost:8080/"
        },
        "id": "f-bQz-erG42o",
        "outputId": "9c7fde72-7ec0-4436-84c2-0ed09dc42d5e"
      },
      "execution_count": null,
      "outputs": [
        {
          "output_type": "execute_result",
          "data": {
            "text/plain": [
              "0.847697031729785"
            ]
          },
          "metadata": {},
          "execution_count": 94
        }
      ]
    },
    {
      "cell_type": "code",
      "source": [
        "wsaaaaaaaaaaaaaaaaaaaaaafrom yellowbrick.classifier import ConfusionMatrix\n",
        "cm = ConfusionMatrix(credit_randomForest)\n",
        "cm.fit(X_train,y_train)\n",
        "cm.score(X_test, y_test);"
      ],
      "metadata": {
        "colab": {
          "base_uri": "https://localhost:8080/",
          "height": 372
        },
        "id": "ON9crLHGHCXC",
        "outputId": "f4381312-2a5a-48ea-d3f5-f1b886b28cfc"
      },
      "execution_count": null,
      "outputs": [
        {
          "output_type": "display_data",
          "data": {
            "text/plain": [
              "<Figure size 576x396 with 1 Axes>"
            ],
            "image/png": "[encoded data removed]"
          },
          "metadata": {}
        }
      ]
    },
    {
      "cell_type": "code",
      "source": [
        "print(classification_report(y_test,predictors))"
      ],
      "metadata": {
        "colab": {
          "base_uri": "https://localhost:8080/"
        },
        "id": "bFBBMcVhHGMr",
        "outputId": "2fe7362f-8586-4246-db21-d383f71da6f6"
      },
      "execution_count": null,
      "outputs": [
        {
          "output_type": "stream",
          "name": "stdout",
          "text": [
            "              precision    recall  f1-score   support\n",
            "\n",
            "       <=50K       0.88      0.92      0.90      3693\n",
            "        >50K       0.72      0.61      0.66      1192\n",
            "\n",
            "    accuracy                           0.85      4885\n",
            "   macro avg       0.80      0.77      0.78      4885\n",
            "weighted avg       0.84      0.85      0.84      4885\n",
            "\n"
          ]
        }
      ]
    }
  ]
}